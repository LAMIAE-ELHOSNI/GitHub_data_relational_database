{
 "cells": [
  {
   "cell_type": "code",
   "execution_count": 1,
   "metadata": {},
   "outputs": [],
   "source": [
    "import pandas as pd\n",
    "import pyodbc\n",
    "df=pd.read_csv(\"clean_data_github.csv\")\n",
    "df_con=pd.read_csv(\"updated_data.csv\")\n"
   ]
  },
  {
   "cell_type": "markdown",
   "metadata": {},
   "source": [
    "# inserting data to Language table and TypeOwner Table"
   ]
  },
  {
   "cell_type": "code",
   "execution_count": 2,
   "metadata": {},
   "outputs": [],
   "source": [
    "import pyodbc\n",
    "# Language\n",
    "connection_string = 'Driver={SQL Server};Server=LAPTOP-5VUQJT8J\\SQLEXPRESS;Database=GITHUB_DATA;UID=;PWD=;'\n",
    "connection = pyodbc.connect(connection_string)\n",
    "cursor = connection.cursor()\n",
    "\n",
    "df_language_unique = df.drop_duplicates(subset=['language'])\n",
    "for _, row in df_language_unique.iterrows():\n",
    "    query = \"INSERT INTO Language (language) VALUES (?)\"\n",
    "    values = (row['language'],)\n",
    "    cursor.execute(query, values)\n",
    "\n",
    "# TypeOwner\n",
    "df_type_owner_unique = df.drop_duplicates(subset=['type_owner'])\n",
    "for _, row in df_type_owner_unique.iterrows():\n",
    "    query = \"INSERT INTO TypeOwner (typeOwner) VALUES (?)\"\n",
    "    values = (row['type_owner'],)\n",
    "    cursor.execute(query, values)\n",
    "\n",
    "\n",
    "connection.commit()\n",
    "\n",
    "cursor.close()\n",
    "connection.close()\n",
    "\n"
   ]
  },
  {
   "cell_type": "markdown",
   "metadata": {},
   "source": [
    "# inserting data to Repository table"
   ]
  },
  {
   "cell_type": "code",
   "execution_count": 3,
   "metadata": {},
   "outputs": [],
   "source": [
    "\n",
    "\n",
    "connection = pyodbc.connect(connection_string)\n",
    "cursor = connection.cursor()\n",
    "\n",
    "def get_id_type_owner(type_owner):\n",
    "    cursor.execute(\"SELECT idTypeOwner FROM TypeOwner WHERE typeOwner = ?\", type_owner)\n",
    "    result = cursor.fetchone()\n",
    "    return result[0] if result else None\n",
    "\n",
    "def get_id_language(language):\n",
    "    cursor.execute(\"SELECT idLanguage FROM Language WHERE language = ?\", language)\n",
    "    result = cursor.fetchone()\n",
    "    return result[0] if result else None\n",
    "\n",
    "# Iterate through the DataFrame rows and insert data into the \"Repository\" table\n",
    "for _, row in df.iterrows():\n",
    "    # Get idTypeOwner and idLanguage from the corresponding tables\n",
    "    id_type_owner = get_id_type_owner(row['type_owner'])\n",
    "    id_language = get_id_language(row['language'])\n",
    "    \n",
    "    # Check if the repository already exists in the table\n",
    "    cursor.execute(\"SELECT COUNT(*) FROM Repository WHERE idRepo = ?\", row['id'])\n",
    "    if cursor.fetchone()[0] == 0:\n",
    "        # Convert date strings to datetime objects\n",
    "        insert_query = '''\n",
    "                        INSERT INTO Repository (\n",
    "                            idTypeOwner, idLanguage, fullName, createdAt, startCount, description, htmlUrl, contributorsUrl,\n",
    "                            openIssuesCount_, forks\n",
    "                        )\n",
    "                        VALUES (?, ?, ?, ?, ?, ?, ?, ?, ?, ?)'''\n",
    "        values = (id_type_owner, id_language, row['full_name'], row['created_at'], row['stargazers_count'],\n",
    "              row['description'], row['html_url'], row['contributors_url'], row['open_issues_count'], row['forks'])\n",
    "        \n",
    "        cursor.execute(insert_query,values)\n",
    "connection.commit()\n",
    "cursor.close()\n",
    "connection.close()\n"
   ]
  },
  {
   "cell_type": "markdown",
   "metadata": {},
   "source": [
    "# inserting data to Topic table"
   ]
  },
  {
   "cell_type": "code",
   "execution_count": null,
   "metadata": {},
   "outputs": [],
   "source": [
    "import ast\n",
    "df['topics'] = df['topics'].apply(ast.literal_eval)\n",
    "df_topics=df.explode('topics')\n",
    "df_topics_unique = df_topics.drop_duplicates(subset=['topics'])\n",
    "df_topics_unique\n",
    "\n",
    "connection = pyodbc.connect(connection_string)\n",
    "cursor = connection.cursor()\n",
    "df_topics=df.explode('topics')\n",
    "df_topics_unique = df_topics.drop_duplicates(subset=['topics'])\n",
    "for _, row in df_topics_unique.iterrows():\n",
    "    query = \"INSERT INTO Topic (topic) VALUES (?)\"\n",
    "    values = (row['topics'],)\n",
    "    cursor.execute(query, values)\n",
    "connection.commit()\n",
    "\n",
    "cursor.close()\n",
    "connection.close()"
   ]
  },
  {
   "cell_type": "markdown",
   "metadata": {},
   "source": [
    "# inserting data to Repo_Topic table"
   ]
  },
  {
   "cell_type": "code",
   "execution_count": 4,
   "metadata": {},
   "outputs": [],
   "source": [
    "connection = pyodbc.connect(connection_string)\n",
    "cursor = connection.cursor()\n",
    "\n",
    "def get_id_topic(topic):\n",
    "    cursor.execute(\"SELECT idTopic FROM Topic WHERE topic = ?\", topic)\n",
    "    result = cursor.fetchone()\n",
    "    return result[0] if result else None\n",
    "\n",
    "def get_id_repo(fullName):\n",
    "    cursor.execute(\"SELECT idRepo FROM Repository WHERE fullName = ?\", fullName)\n",
    "    result = cursor.fetchone()\n",
    "    return result[0] if result else None\n",
    "\n",
    "try:\n",
    "    connection.autocommit = False\n",
    "\n",
    "    for _, row in df_topics.iterrows():\n",
    "        id_topic = get_id_topic(row['topics'])\n",
    "        id_repo = get_id_repo(row['full_name'])\n",
    "\n",
    "        if id_topic is not None and id_repo is not None:\n",
    "            query = \"INSERT INTO Repo_Topic (idTopic, idRepo) VALUES (?, ?)\"\n",
    "            values = (id_topic, id_repo)\n",
    "\n",
    "            cursor.execute(query, values)\n",
    "\n",
    "    connection.commit()\n",
    "except Exception as e:\n",
    "    connection.rollback()\n",
    "    print(\"Error occurred during data insertion:\", str(e))\n",
    "\n",
    "finally:\n",
    "    cursor.close()\n",
    "    connection.close()\n"
   ]
  },
  {
   "cell_type": "markdown",
   "metadata": {},
   "source": [
    "# inserting data to Contributor table"
   ]
  },
  {
   "cell_type": "code",
   "execution_count": 5,
   "metadata": {},
   "outputs": [],
   "source": [
    "connection = pyodbc.connect(connection_string)\n",
    "cursor = connection.cursor()\n",
    "df_sql_cont_df_unique = new_df_con.drop_duplicates(subset=['login'])\n",
    "for _, row in df_sql_cont_df_unique.iterrows():\n",
    "    query = \"INSERT INTO Contributor (contrubtor) VALUES (?)\"\n",
    "    values = (row['login'],)\n",
    "    cursor.execute(query, values)\n",
    "\n",
    "connection.commit()\n",
    "cursor.close()\n",
    "connection.close()"
   ]
  },
  {
   "cell_type": "markdown",
   "metadata": {},
   "source": [
    "# inserting data to Contribution table"
   ]
  },
  {
   "cell_type": "code",
   "execution_count": 6,
   "metadata": {},
   "outputs": [],
   "source": [
    "connection = pyodbc.connect(connection_string)\n",
    "cursor = connection.cursor()\n",
    "\n",
    "def get_id_Contributor(Contributor):\n",
    "    cursor.execute(\"SELECT idContrubutor FROM Contributor WHERE contrubtor = ?\", Contributor)\n",
    "    result = cursor.fetchone()\n",
    "    return result[0] if result else None\n",
    "\n",
    "def get_id(id_fl):\n",
    "    cursor.execute(\"SELECT idRepo FROM Repository WHERE fullName = ?\", id_fl)\n",
    "    result = cursor.fetchone()\n",
    "    return result[0] if result else None\n",
    "\n",
    "try:\n",
    "    connection.autocommit = False\n",
    "\n",
    "    for _, row in df_sql_cont_df_unique.iterrows():\n",
    "        # Get idContrubutor from the 'Contributor' table\n",
    "        id_contrubutor = get_id_Contributor(row['login'])\n",
    "        id_fl = get_id(row['full_name'])\n",
    "\n",
    "        # Check if 'idRepo' is not None, meaning it was found in the 'Repository' table\n",
    "        if id_fl is not None:\n",
    "            query = \"INSERT INTO Contribution (idContrubutor, idRepo, number_Contributions) VALUES (?, ?, ?)\"\n",
    "            values = (\n",
    "                id_contrubutor,\n",
    "                id_fl,\n",
    "                row['contributions'],\n",
    "            )\n",
    "            cursor.execute(query, values)\n",
    "\n",
    "    connection.commit()\n",
    "except Exception as e:\n",
    "    connection.rollback()\n",
    "    print(\"Error occurred during data insertion:\", str(e))\n",
    "\n",
    "finally:\n",
    "    cursor.close()\n",
    "    connection.close()\n"
   ]
  }
 ],
 "metadata": {
  "kernelspec": {
   "display_name": "Python 3",
   "language": "python",
   "name": "python3"
  },
  "language_info": {
   "codemirror_mode": {
    "name": "ipython",
    "version": 3
   },
   "file_extension": ".py",
   "mimetype": "text/x-python",
   "name": "python",
   "nbconvert_exporter": "python",
   "pygments_lexer": "ipython3",
   "version": "3.11.3"
  },
  "orig_nbformat": 4
 },
 "nbformat": 4,
 "nbformat_minor": 2
}
